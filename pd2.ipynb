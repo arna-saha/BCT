{
 "cells": [
  {
   "cell_type": "code",
   "execution_count": 4,
   "metadata": {},
   "outputs": [
    {
     "name": "stdout",
     "output_type": "stream",
     "text": [
      "3 is prime in range\n",
      "5 is prime in range\n",
      "5 is prime in range\n",
      "5 is prime in range\n"
     ]
    }
   ],
   "source": [
    "a=int(input(\"Enter starting number\"))\n",
    "b=int(input(\"Enter ending number\"))\n",
    "s=range(a,b)\n",
    "for x in s:\n",
    "    for num in range(2,x):\n",
    "        if x%num==0:\n",
    "            break\n",
    "        else:\n",
    "            print(x,\"is prime in range\")\n",
    "     \n",
    "    "
   ]
  },
  {
   "cell_type": "code",
   "execution_count": 5,
   "metadata": {},
   "outputs": [
    {
     "name": "stdout",
     "output_type": "stream",
     "text": [
      "10,20,30,"
     ]
    }
   ],
   "source": [
    "l=[]\n",
    "l.append(10)\n",
    "l.append(20)\n",
    "l.append(30)\n",
    "for x in l:\n",
    "    print(x,end=\",\")"
   ]
  },
  {
   "cell_type": "code",
   "execution_count": 6,
   "metadata": {},
   "outputs": [
    {
     "name": "stdout",
     "output_type": "stream",
     "text": [
      "[10, 20, 30]\n"
     ]
    }
   ],
   "source": [
    "#how to insert\n",
    "a=[10,20]\n",
    "a.insert(2,30)\n",
    "print(a)\n"
   ]
  },
  {
   "cell_type": "code",
   "execution_count": 7,
   "metadata": {},
   "outputs": [
    {
     "data": {
      "text/plain": [
       "[10, 50, 20, 30]"
      ]
     },
     "execution_count": 7,
     "metadata": {},
     "output_type": "execute_result"
    }
   ],
   "source": [
    "a.insert(1,50)\n",
    "a"
   ]
  },
  {
   "cell_type": "code",
   "execution_count": 8,
   "metadata": {},
   "outputs": [
    {
     "data": {
      "text/plain": [
       "[10, 30]"
      ]
     },
     "execution_count": 8,
     "metadata": {},
     "output_type": "execute_result"
    }
   ],
   "source": [
    "#how to remove\n",
    "l.remove(20)\n",
    "l"
   ]
  },
  {
   "cell_type": "code",
   "execution_count": 11,
   "metadata": {},
   "outputs": [
    {
     "data": {
      "text/plain": [
       "[1, 2, 3, 4, 5]"
      ]
     },
     "execution_count": 11,
     "metadata": {},
     "output_type": "execute_result"
    }
   ],
   "source": [
    "D=[5,4,3,2,1]\n",
    "D.sort()\n",
    "D"
   ]
  },
  {
   "cell_type": "code",
   "execution_count": 14,
   "metadata": {},
   "outputs": [
    {
     "name": "stdout",
     "output_type": "stream",
     "text": [
      "10\n"
     ]
    }
   ],
   "source": [
    "list=[1,2,3,4]\n",
    "s=0\n",
    "for i in list:\n",
    "    s=s+i\n",
    "print(s)"
   ]
  },
  {
   "cell_type": "code",
   "execution_count": 20,
   "metadata": {},
   "outputs": [
    {
     "name": "stdout",
     "output_type": "stream",
     "text": [
      "NOT\n"
     ]
    }
   ],
   "source": [
    "#leap year\n",
    "y=int(input(\"Enter year\"))\n",
    "if((y%400 == 0) or (y%4==0) and (y%100!=0)):\n",
    "    print(\"leap year\")\n",
    "else:\n",
    "    print(\"NOT\")"
   ]
  },
  {
   "cell_type": "code",
   "execution_count": 22,
   "metadata": {},
   "outputs": [
    {
     "data": {
      "text/plain": [
       "'AAAAAAAAAAAAAAA si eman yM'"
      ]
     },
     "execution_count": 22,
     "metadata": {},
     "output_type": "execute_result"
    }
   ],
   "source": [
    "S1='My name is AAAAAAAAAAAAAAA'\n",
    "S1[::-1]\n"
   ]
  },
  {
   "cell_type": "code",
   "execution_count": 23,
   "metadata": {},
   "outputs": [
    {
     "name": "stdout",
     "output_type": "stream",
     "text": [
      "No. of vowels:  1\n"
     ]
    }
   ],
   "source": [
    "s=input(\"Enter a string\")\n",
    "v=\"aeiouAEIOU\"\n",
    "count=sum(1 for char in s if char in v)\n",
    "print(\"No. of vowels: \",count)"
   ]
  },
  {
   "cell_type": "code",
   "execution_count": 28,
   "metadata": {},
   "outputs": [
    {
     "name": "stdout",
     "output_type": "stream",
     "text": [
      "<class 'int'>: 2\n",
      "<class 'float'>: 2\n",
      "<class 'str'>: 2\n",
      "<class 'bool'>: 2\n"
     ]
    }
   ],
   "source": [
    "tuple = (1, 3.14, \"Hello\", True, 5, 3.14, False, \"World\")\n",
    "type_count = {}\n",
    "for item in tuple:\n",
    "    item_type = type(item)\n",
    "    if item_type in type_count:\n",
    "        type_count[item_type] += 1\n",
    "    else:\n",
    "        type_count[item_type] = 1\n",
    "for dtype, count in type_count.items():\n",
    "    print(f\"{dtype}: {count}\")"
   ]
  },
  {
   "cell_type": "code",
   "execution_count": 35,
   "metadata": {},
   "outputs": [
    {
     "name": "stdout",
     "output_type": "stream",
     "text": [
      "{1, 2, 3, 5, 7}\n"
     ]
    }
   ],
   "source": [
    "\n",
    "s={1,2,3}\n",
    "l={1,3,5,7}\n",
    "s.update(l)\n",
    "\n",
    "print(s)"
   ]
  },
  {
   "cell_type": "code",
   "execution_count": 36,
   "metadata": {},
   "outputs": [],
   "source": [
    "s={1,2,3,5,6,7}\n",
    "s.discard(4)"
   ]
  },
  {
   "cell_type": "code",
   "execution_count": 38,
   "metadata": {},
   "outputs": [],
   "source": [
    "s={1,2,3,5,6,7}\n",
    "s.remove(5)"
   ]
  },
  {
   "cell_type": "code",
   "execution_count": 42,
   "metadata": {},
   "outputs": [
    {
     "name": "stdout",
     "output_type": "stream",
     "text": [
      "\"key=\" 100 \"value\" \"deb\"\n",
      "\"key=\" 101 \"value\" \"dipsikha\"\n",
      "\"key=\" 102 \"value\" \"ol\"\n"
     ]
    }
   ],
   "source": [
    "d={100:'\"deb\"',101:'\"dipsikha\"',102:'\"ol\"'}\n",
    "for k in d:\n",
    "    print('\"key=\"',k,'\"value\"',d[k])"
   ]
  }
 ],
 "metadata": {
  "kernelspec": {
   "display_name": "Python 3",
   "language": "python",
   "name": "python3"
  },
  "language_info": {
   "codemirror_mode": {
    "name": "ipython",
    "version": 3
   },
   "file_extension": ".py",
   "mimetype": "text/x-python",
   "name": "python",
   "nbconvert_exporter": "python",
   "pygments_lexer": "ipython3",
   "version": "3.12.6"
  }
 },
 "nbformat": 4,
 "nbformat_minor": 2
}
