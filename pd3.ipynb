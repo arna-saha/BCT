{
 "cells": [
  {
   "cell_type": "code",
   "execution_count": null,
   "metadata": {},
   "outputs": [],
   "source": [
    "data = {}\n",
    "print(\"Enter key-value pairs. Type 'done' as the key when finished.\")\n",
    "while True:\n",
    "    key = input(\"Enter key: \")\n",
    "    if key.lower() == 'done':\n",
    "        break\n",
    "    value = input(f\"Enter value for '{key}': \")\n",
    "    data[key] = value\n",
    "\n",
    "print(\"\\nCollected data:\")\n",
    "print(data)\n"
   ]
  },
  {
   "cell_type": "code",
   "execution_count": 4,
   "metadata": {},
   "outputs": [
    {
     "name": "stdout",
     "output_type": "stream",
     "text": [
      "\n",
      "Email Dictionary:\n",
      "Name:wwww, Phone:2344, Email: rrr -> Email ID: rrt\n",
      "Name:wwww, Phone:2344, Email: fdfdf -> Email ID: ewee\n"
     ]
    }
   ],
   "source": [
    "email_dict = {}\n",
    "\n",
    "# Ask the user how many emails they want to enter\n",
    "n = int(input(\"Enter the number of emails you want to add: \"))\n",
    "\n",
    "# Collect emails from the user\n",
    "for i in range(n):\n",
    "    name = input(\"Enter name:\")\n",
    "    phone = input(\"Enter phone number:\")\n",
    "    email = input(\"Enter email address: \")\n",
    "    email_id = input(\"Enter password {}: \".format(email))\n",
    "    email_dict[email] = email_id\n",
    "\n",
    "# Display the dictionary\n",
    "print(\"\\nEmail Dictionary:\")\n",
    "for email, email_id in email_dict.items():\n",
    "    print(f\"Name:{name}, Phone:{phone}, Email: {email} -> Email ID: {email_id}\")"
   ]
  },
  {
   "cell_type": "code",
   "execution_count": 5,
   "metadata": {},
   "outputs": [
    {
     "name": "stdout",
     "output_type": "stream",
     "text": [
      "\n",
      "Email Dictinary:\n",
      "Name:upo, Phone:34567, E-mail:upo@g, Password:tyuiyp\n",
      "Name:upo, Phone:34567, E-mail:upo@g, Password:tyuiyp\n"
     ]
    }
   ],
   "source": [
    "n=int(input(\"Enter the number of emails you want to add:\"))\n",
    "for i in range (n):\n",
    "    name=input(\"Enter name:\")\n",
    "    phone=input(\"Enter phone number:\")\n",
    "    a=input(\"Enter e-mail address:\")\n",
    "    id=input(\"Enter password:\")\n",
    "print(\"\\nEmail Dictinary:\")\n",
    "for i in range(n):\n",
    "    print(f\"Name:{name}, Phone:{phone}, E-mail:{a}, Password:{id}\")"
   ]
  },
  {
   "cell_type": "code",
   "execution_count": null,
   "metadata": {},
   "outputs": [
    {
     "name": "stdout",
     "output_type": "stream",
     "text": [
      "\n",
      "Email Dictionary:\n",
      "Name: arna, Phone: 23456, E-mail: ar@g, Password: erw\n",
      "Name: upo, Phone: 56789, E-mail: upo@g, Password: jjhkjhh\n"
     ]
    }
   ],
   "source": [
    "n = int(input(\"Enter the number of emails you want to add: \"))\n",
    "email_list = []  # List to store multiple dictionaries\n",
    "\n",
    "for i in range(n):\n",
    "    name = input(\"Enter name: \")\n",
    "    phone = input(\"Enter phone number: \")\n",
    "    a = input(\"Enter e-mail address: \")\n",
    "    id = input(\"Enter password: \")\n",
    "\n",
    "    # Store the details in a dictionary\n",
    "    user_info = {\n",
    "        \"Name\": name,\n",
    "        \"Phone\": phone,\n",
    "        \"E-mail\": a,\n",
    "        \"Password\": id\n",
    "    }\n",
    "    \n",
    "     # Append each dictionary to the list\n",
    "    email_list.append(user_info)\n",
    "\n",
    "print(\"\\nEmail Dictionary:\")\n",
    "for user in email_list:\n",
    "    print(f\"Name: {user['Name']}, Phone: {user['Phone']}, E-mail: {user['E-mail']}, Password: {user['Password']}\")\n"
   ]
  }
 ],
 "metadata": {
  "kernelspec": {
   "display_name": "Python 3",
   "language": "python",
   "name": "python3"
  },
  "language_info": {
   "codemirror_mode": {
    "name": "ipython",
    "version": 3
   },
   "file_extension": ".py",
   "mimetype": "text/x-python",
   "name": "python",
   "nbconvert_exporter": "python",
   "pygments_lexer": "ipython3",
   "version": "3.12.6"
  }
 },
 "nbformat": 4,
 "nbformat_minor": 2
}
